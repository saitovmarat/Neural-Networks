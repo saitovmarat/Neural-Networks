{
 "cells": [
  {
   "cell_type": "markdown",
   "id": "327c72d1",
   "metadata": {},
   "source": [
    "# Случайный лес"
   ]
  },
  {
   "cell_type": "markdown",
   "id": "93b66a70",
   "metadata": {},
   "source": [
    "## Подключение библиотек"
   ]
  },
  {
   "cell_type": "code",
   "execution_count": 647,
   "id": "06811c07",
   "metadata": {},
   "outputs": [],
   "source": [
    "import numpy as np\n",
    "import csv\n",
    "from sklearn.model_selection import train_test_split\n",
    "from sklearn.preprocessing import StandardScaler\n",
    "from tabulate import tabulate\n",
    "import matplotlib.pyplot as plt\n",
    "from matplotlib.colors import ListedColormap"
   ]
  },
  {
   "cell_type": "markdown",
   "id": "4e091a33",
   "metadata": {},
   "source": [
    "## 1. Данные"
   ]
  },
  {
   "cell_type": "markdown",
   "id": "8775e846",
   "metadata": {},
   "source": [
    "### Разделение данных на тренировочные и тестовые"
   ]
  },
  {
   "cell_type": "code",
   "execution_count": 648,
   "id": "91cb7b84",
   "metadata": {},
   "outputs": [],
   "source": [
    "features_train = []\n",
    "prices = []\n",
    "\n",
    "with open('./dataset/preprocessed_train.csv', 'r') as csvfile:\n",
    "    reader = csv.DictReader(csvfile)\n",
    "    feature_titles = [key for key in reader.fieldnames if key != 'Survived']\n",
    "    \n",
    "    for row in reader:\n",
    "        sale_price = float(row['Survived'])\n",
    "        feature_values = []\n",
    "        for feature in feature_titles:\n",
    "            value = row[feature]\n",
    "            feature_values.append(float(value))\n",
    "        \n",
    "        features_train.append(feature_values)\n",
    "        prices.append(sale_price)\n",
    "\n",
    "features_train = np.array(features_train)\n",
    "prices = np.array(prices)\n",
    "\n",
    "x_train, x_test, y_train, y_test = train_test_split(\n",
    "    features_train, prices, \n",
    "    test_size=0.3, \n",
    "    random_state=42\n",
    ")\n",
    "\n",
    "numerical_features = ['Age', 'SibSp', 'Parch', 'Fare']\n",
    "scaler = StandardScaler()\n",
    "\n",
    "for i, feature in enumerate(feature_titles):\n",
    "    if feature in numerical_features:\n",
    "        mean_value = np.nanmean(x_train[:, i])\n",
    "        x_train[:, i] = np.where(np.isnan(x_train[:, i]), mean_value, x_train[:, i])\n",
    "        x_test[:, i] = np.where(np.isnan(x_test[:, i]), mean_value, x_test[:, i])\n",
    "        \n",
    "        x_train[:, i] = scaler.fit_transform(x_train[:, i].reshape(-1, 1)).flatten()\n",
    "        x_test[:, i] = scaler.transform(x_test[:, i].reshape(-1, 1)).flatten()"
   ]
  },
  {
   "cell_type": "markdown",
   "id": "210d3050",
   "metadata": {},
   "source": [
    "### Визуализация данных"
   ]
  },
  {
   "cell_type": "code",
   "execution_count": 649,
   "id": "5a23e75e",
   "metadata": {},
   "outputs": [
    {
     "name": "stdout",
     "output_type": "stream",
     "text": [
      "+---------+----------+-------+-----------+-----------+-----------+------------+------------+------------+\n",
      "| Index   | Pclass   | Sex   | Age       | SibSp     | Parch     | Fare       | Embarked   | Survived   |\n",
      "+=========+==========+=======+===========+===========+===========+============+============+============+\n",
      "| 0       | 1        | 0     | -1.85798  | -0.474161 | 1.99885   | 0.980998   | 2          | 1          |\n",
      "+---------+----------+-------+-----------+-----------+-----------+------------+------------+------------+\n",
      "| 1       | 3        | 0     | -0.278303 | -0.474161 | -0.479327 | -0.469634  | 2          | 0          |\n",
      "+---------+----------+-------+-----------+-----------+-----------+------------+------------+------------+\n",
      "| 2       | 3        | 1     | -2.08365  | 0.348687  | 0.759763  | -0.406136  | 2          | 1          |\n",
      "+---------+----------+-------+-----------+-----------+-----------+------------+------------+------------+\n",
      "| 3       | 2        | 0     | 0.549149  | 0.348687  | 1.99885   | -0.0802318 | 2          | 0          |\n",
      "+---------+----------+-------+-----------+-----------+-----------+------------+------------+------------+\n",
      "| 4       | 2        | 0     | 1.07571   | 0.348687  | 0.759763  | -0.109651  | 2          | 0          |\n",
      "+---------+----------+-------+-----------+-----------+-----------+------------+------------+------------+\n",
      "| 5       | 1        | 0     | 0.699595  | -0.474161 | 0.759763  | 2.38538    | 2          | 0          |\n",
      "+---------+----------+-------+-----------+-----------+-----------+------------+------------+------------+\n",
      "| 6       | 2        | 1     | 0.173034  | 0.348687  | 0.759763  | -0.109651  | 2          | 1          |\n",
      "+---------+----------+-------+-----------+-----------+-----------+------------+------------+------------+\n",
      "| 7       | 3        | 0     | 0.0225886 | -0.474161 | -0.479327 | -0.466609  | 2          | 0          |\n",
      "+---------+----------+-------+-----------+-----------+-----------+------------+------------+------------+\n",
      "| 8       | 3        | 0     | -0.804863 | -0.474161 | -0.479327 | -0.461706  | 2          | 0          |\n",
      "+---------+----------+-------+-----------+-----------+-----------+------------+------------+------------+\n",
      "| 9       | 2        | 0     | 0.0978115 | -0.474161 | -0.479327 | -0.329318  | 0          | 0          |\n",
      "+---------+----------+-------+-----------+-----------+-----------+------------+------------+------------+\n",
      "| 10      | 1        | 1     | 0.774818  | 0.348687  | 0.759763  | 1.55027    | 0          | 1          |\n",
      "+---------+----------+-------+-----------+-----------+-----------+------------+------------+------------+\n",
      "| 11      | 2        | 0     | 0.774818  | -0.474161 | -0.479327 | -0.369525  | 2          | 0          |\n",
      "+---------+----------+-------+-----------+-----------+-----------+------------+------------+------------+\n",
      "| 12      | 3        | 0     | -0.20308  | 1.17154   | -0.479327 | -0.454596  | 2          | 0          |\n",
      "+---------+----------+-------+-----------+-----------+-----------+------------+------------+------------+\n",
      "| 13      | 3        | 0     | -0.654417 | -0.474161 | -0.479327 | -0.486222  | 2          | 0          |\n",
      "+---------+----------+-------+-----------+-----------+-----------+------------+------------+------------+\n",
      "| 14      | 1        | 1     | 0.473926  | 0.348687  | -0.479327 | 1.99679    | 2          | 1          |\n",
      "+---------+----------+-------+-----------+-----------+-----------+------------+------------+------------+\n",
      "| 15      | 3        | 0     | 1.52705   | -0.474161 | -0.479327 | -0.624495  | 2          | 0          |\n",
      "+---------+----------+-------+-----------+-----------+-----------+------------+------------+------------+\n",
      "| 16      | 2        | 0     | -0.428749 | -0.474161 | -0.479327 | -0.3294    | 0          | 0          |\n",
      "+---------+----------+-------+-----------+-----------+-----------+------------+------------+------------+\n",
      "| 17      | 3        | 0     | -2.08365  | 2.81723   | 0.759763  | 0.153899   | 2          | 0          |\n",
      "+---------+----------+-------+-----------+-----------+-----------+------------+------------+------------+\n",
      "| 18      | 3        | 1     | -0.541583 | -0.474161 | -0.479327 | -0.469959  | 1          | 1          |\n",
      "+---------+----------+-------+-----------+-----------+-----------+------------+------------+------------+\n",
      "| 19      | 3        | 0     | -0.278303 | 0.348687  | 1.99885   | -0.164568  | 2          | 0          |\n",
      "+---------+----------+-------+-----------+-----------+-----------+------------+------------+------------+\n"
     ]
    }
   ],
   "source": [
    "table_data = []\n",
    "headers = [\"Index\"] + feature_titles + [\"Survived\"]\n",
    "\n",
    "for i, (feat_scaled, price) in enumerate(zip(x_train, y_train)):\n",
    "    row = [i] + list(feat_scaled) + [price]\n",
    "    table_data.append(row)\n",
    "\n",
    "print(tabulate(table_data[:20], headers=headers, tablefmt=\"grid\", numalign=\"left\"))"
   ]
  },
  {
   "cell_type": "markdown",
   "id": "2b1884ba",
   "metadata": {},
   "source": [
    "### Оставляем только два признака (Age, Fare)\n"
   ]
  },
  {
   "cell_type": "code",
   "execution_count": 650,
   "id": "bda35173",
   "metadata": {},
   "outputs": [],
   "source": [
    "x_train = x_train[:, [2, 5]]\n",
    "x_test = x_test[:, [2, 5]]"
   ]
  },
  {
   "cell_type": "markdown",
   "id": "f55d41d7",
   "metadata": {},
   "source": [
    "### Визуализируем оставшиеся данные"
   ]
  },
  {
   "cell_type": "code",
   "execution_count": 651,
   "id": "562cbc64",
   "metadata": {},
   "outputs": [
    {
     "name": "stdout",
     "output_type": "stream",
     "text": [
      "+---------+-----------+------------+------------+\n",
      "| Index   | Age       | Fare       | Survived   |\n",
      "+=========+===========+============+============+\n",
      "| 0       | -1.85798  | 0.980998   | 1          |\n",
      "+---------+-----------+------------+------------+\n",
      "| 1       | -0.278303 | -0.469634  | 0          |\n",
      "+---------+-----------+------------+------------+\n",
      "| 2       | -2.08365  | -0.406136  | 1          |\n",
      "+---------+-----------+------------+------------+\n",
      "| 3       | 0.549149  | -0.0802318 | 0          |\n",
      "+---------+-----------+------------+------------+\n",
      "| 4       | 1.07571   | -0.109651  | 0          |\n",
      "+---------+-----------+------------+------------+\n",
      "| 5       | 0.699595  | 2.38538    | 0          |\n",
      "+---------+-----------+------------+------------+\n",
      "| 6       | 0.173034  | -0.109651  | 1          |\n",
      "+---------+-----------+------------+------------+\n",
      "| 7       | 0.0225886 | -0.466609  | 0          |\n",
      "+---------+-----------+------------+------------+\n",
      "| 8       | -0.804863 | -0.461706  | 0          |\n",
      "+---------+-----------+------------+------------+\n",
      "| 9       | 0.0978115 | -0.329318  | 0          |\n",
      "+---------+-----------+------------+------------+\n",
      "| 10      | 0.774818  | 1.55027    | 1          |\n",
      "+---------+-----------+------------+------------+\n",
      "| 11      | 0.774818  | -0.369525  | 0          |\n",
      "+---------+-----------+------------+------------+\n",
      "| 12      | -0.20308  | -0.454596  | 0          |\n",
      "+---------+-----------+------------+------------+\n",
      "| 13      | -0.654417 | -0.486222  | 0          |\n",
      "+---------+-----------+------------+------------+\n",
      "| 14      | 0.473926  | 1.99679    | 1          |\n",
      "+---------+-----------+------------+------------+\n",
      "| 15      | 1.52705   | -0.624495  | 0          |\n",
      "+---------+-----------+------------+------------+\n",
      "| 16      | -0.428749 | -0.3294    | 0          |\n",
      "+---------+-----------+------------+------------+\n",
      "| 17      | -2.08365  | 0.153899   | 0          |\n",
      "+---------+-----------+------------+------------+\n",
      "| 18      | -0.541583 | -0.469959  | 1          |\n",
      "+---------+-----------+------------+------------+\n",
      "| 19      | -0.278303 | -0.164568  | 0          |\n",
      "+---------+-----------+------------+------------+\n"
     ]
    }
   ],
   "source": [
    "table_data = []\n",
    "headers = [\"Index\", \"Age\", \"Fare\", \"Survived\"]\n",
    "\n",
    "for i, (feat_scaled, price) in enumerate(zip(x_train, y_train)):\n",
    "    row = [i] + list(feat_scaled) + [price]\n",
    "    table_data.append(row)\n",
    "\n",
    "print(tabulate(table_data[:20], headers=headers, tablefmt=\"grid\", numalign=\"left\"))"
   ]
  },
  {
   "cell_type": "markdown",
   "id": "918c10c8",
   "metadata": {},
   "source": [
    "## 2. Построение модели"
   ]
  },
  {
   "cell_type": "markdown",
   "id": "5734c25d",
   "metadata": {},
   "source": [
    "### Определение класса решающего дерева (слабого ученика)"
   ]
  },
  {
   "cell_type": "code",
   "execution_count": 652,
   "id": "f6cd2083",
   "metadata": {},
   "outputs": [],
   "source": [
    "class DecisionTree:\n",
    "    def __init__(self, max_depth=3):\n",
    "        self.max_depth = max_depth\n",
    "        self.tree = None\n",
    "        \n",
    "    def fit(self, X, Y) -> None:\n",
    "        Y = np.array(Y, dtype=int)\n",
    "        self.tree = self._build_tree(X, Y)\n",
    "    \n",
    "    def _build_tree(self, X, Y, depth=0):\n",
    "        n_labels = len(np.unique(Y))\n",
    "        if depth >= self.max_depth or n_labels == 1:\n",
    "            leaf_value = np.bincount(Y).argmax()\n",
    "            return {'value': leaf_value}\n",
    "        \n",
    "        feature_idx, threshold = self._best_split(X, Y)\n",
    "        if feature_idx is None or threshold is None:\n",
    "            leaf_value = np.bincount(Y).argmax()\n",
    "            return {'value': leaf_value}\n",
    "        \n",
    "        left_branch = X[:, feature_idx] <= threshold\n",
    "        right_branch = X[:, feature_idx] > threshold\n",
    "        \n",
    "        left_tree = self._build_tree(X[left_branch], Y[left_branch], depth + 1)\n",
    "        right_tree = self._build_tree(X[right_branch], Y[right_branch], depth + 1)\n",
    "        \n",
    "        return {\n",
    "            'feature_index': feature_idx,\n",
    "            'threshold': threshold,\n",
    "            'left': left_tree,\n",
    "            'right': right_tree\n",
    "        }\n",
    "        \n",
    "    def _best_split(self, X, Y):\n",
    "        n_features = X.shape[1]\n",
    "        feature_indices = np.random.choice(n_features, size=int(np.sqrt(n_features)), replace=False)\n",
    "        if (n_features <= 2):\n",
    "            feature_indices = range(n_features)\n",
    "        \n",
    "        best_feature, best_threshold, lowest_loss = None, None, float('inf')\n",
    "        for feature_idx in feature_indices:\n",
    "            thresholds = np.unique(X[:, feature_idx])\n",
    "            for threshold in thresholds:\n",
    "                left_branch = X[:, feature_idx] <= threshold\n",
    "                right_branch = X[:, feature_idx] > threshold\n",
    "                if len(Y[right_branch]) == 0:\n",
    "                    continue  \n",
    "                \n",
    "                loss = self._weighted_impurity(Y, Y[left_branch], Y[right_branch])\n",
    "                if loss < lowest_loss:\n",
    "                    lowest_loss = loss\n",
    "                    best_feature = feature_idx\n",
    "                    best_threshold = threshold\n",
    "                    \n",
    "        return best_feature, best_threshold             \n",
    "                \n",
    "    def _gini_impurity(self, Y):\n",
    "        probabilities = np.bincount(Y) / len(Y)\n",
    "        return np.sum([p * (1 - p) for p in probabilities])\n",
    "    \n",
    "    def _weighted_impurity(self, parent, left, right):\n",
    "        n = len(parent)\n",
    "        n_left = len(left) \n",
    "        n_right = len(right) \n",
    "        \n",
    "        total_impurity = (n_left / n) * self._gini_impurity(left) + \\\n",
    "                        (n_right / n) * self._gini_impurity(right)          \n",
    "        return total_impurity\n",
    "\n",
    "    def predict(self, X):\n",
    "        return np.array([self._predict_sample(self.tree, sample) for sample in X])\n",
    "    \n",
    "    def _predict_sample(self, node, x):\n",
    "        if 'value' in node:\n",
    "            return node['value']\n",
    "        if x[node['feature_index']] <= node['threshold']:\n",
    "            return self._predict_sample(node['left'], x)\n",
    "        if x[node['feature_index']] > node['threshold']:\n",
    "            return self._predict_sample(node['right'], x)\n",
    "        \n",
    "    def score(self, X, y):\n",
    "        preds = self.predict(X)\n",
    "        return np.mean(preds == y)"
   ]
  },
  {
   "cell_type": "markdown",
   "id": "ce3207e5",
   "metadata": {},
   "source": [
    "### Построение модели случайного леса"
   ]
  },
  {
   "cell_type": "code",
   "execution_count": 653,
   "id": "7b182bf5",
   "metadata": {},
   "outputs": [],
   "source": [
    "class RandomForest:\n",
    "    def __init__(self, n_trees=10, max_depth=3):\n",
    "        self.n_trees = n_trees\n",
    "        self.max_depth = max_depth\n",
    "        self.trees = []\n",
    "        \n",
    "    def _bootstrap_sample(self, X, y):\n",
    "        n_samples = X.shape[0]\n",
    "        indices = np.random.choice(n_samples, size=n_samples, replace=True)\n",
    "        return X[indices], y[indices]\n",
    "    \n",
    "    def fit(self, X, y):\n",
    "        for _ in range(self.n_trees):\n",
    "            X_sample, y_sample = self._bootstrap_sample(X, y)\n",
    "            tree = DecisionTree(max_depth=self.max_depth)\n",
    "            tree.fit(X_sample, y_sample)\n",
    "            self.trees.append(tree)\n",
    "        \n",
    "    def predict(self, X):\n",
    "        predictions = np.array([tree.predict(X) for tree in self.trees])\n",
    "        majority_vote = np.apply_along_axis(lambda x: np.bincount(x).argmax(), axis=0, arr=predictions)\n",
    "        return majority_vote\n",
    "    \n",
    "    def score(self, X, y):\n",
    "        preds = self.predict(X)\n",
    "        return np.mean(preds == y)"
   ]
  },
  {
   "cell_type": "markdown",
   "id": "82f0e1c5",
   "metadata": {},
   "source": [
    "## 3. Тренировка "
   ]
  },
  {
   "cell_type": "code",
   "execution_count": 654,
   "id": "126e9d09",
   "metadata": {},
   "outputs": [],
   "source": [
    "model = RandomForest(n_trees=50, max_depth=5)\n",
    "model.fit(x_train, y_train)"
   ]
  },
  {
   "cell_type": "markdown",
   "id": "cbc1f68c",
   "metadata": {},
   "source": [
    "## 4. Оценка качества модели"
   ]
  },
  {
   "cell_type": "code",
   "execution_count": 655,
   "id": "e3c18785",
   "metadata": {},
   "outputs": [
    {
     "name": "stdout",
     "output_type": "stream",
     "text": [
      "Accuracy on training data: 75.76%\n",
      "Accuracy on test data: 69.03%\n"
     ]
    }
   ],
   "source": [
    "print(f\"Accuracy on training data: {model.score(x_train, y_train) * 100:.2f}%\")\n",
    "print(f\"Accuracy on test data: {model.score(x_test, y_test) * 100:.2f}%\")"
   ]
  },
  {
   "cell_type": "markdown",
   "id": "2cf37a87",
   "metadata": {},
   "source": [
    "## 5. Визуализация модели"
   ]
  },
  {
   "cell_type": "code",
   "execution_count": 656,
   "id": "2a2f1253",
   "metadata": {},
   "outputs": [
    {
     "data": {
      "image/png": "[encoded data removed]",
      "text/plain": [
       "<Figure size 1000x700 with 1 Axes>"
      ]
     },
     "metadata": {},
     "output_type": "display_data"
    }
   ],
   "source": [
    "plt.figure(figsize=(10, 7))\n",
    "\n",
    "x_min, x_max = x_test[:, 0].min() - 1, x_test[:, 0].max() + 1\n",
    "y_min, y_max = x_test[:, 1].min() - 1, x_test[:, 1].max() + 1\n",
    "\n",
    "xx, yy = np.meshgrid(np.arange(x_min, x_max, 0.02),\n",
    "                     np.arange(y_min, y_max, 0.02))\n",
    "\n",
    "Z = model.predict(np.c_[xx.ravel(), yy.ravel()])\n",
    "Z = Z.reshape(xx.shape)\n",
    "\n",
    "cmap_light = ListedColormap(['#FFAAAA', '#AAAAFF']) \n",
    "cmap_bold = ListedColormap(['#FF0000', '#0000FF']) \n",
    "\n",
    "plt.contourf(xx, yy, Z, alpha=0.4, cmap=cmap_light)\n",
    "\n",
    "x_died = x_test[y_test == 0]  \n",
    "x_survived = x_test[y_test == 1]  \n",
    "\n",
    "plt.scatter(x_died[:, 0], x_died[:, 1], c='red', edgecolor='k', s=60, label='Died')\n",
    "plt.scatter(x_survived[:, 0], x_survived[:, 1], c='blue', edgecolor='k', s=60, label='Survived')\n",
    "plt.legend(loc='upper right', fontsize=10)\n",
    "plt.xlabel('Age')\n",
    "plt.ylabel('Fare')\n",
    "plt.title(\"Random Forest Decision Boundaries\")\n",
    "plt.show()"
   ]
  }
 ],
 "metadata": {
  "kernelspec": {
   "display_name": "venv",
   "language": "python",
   "name": "python3"
  },
  "language_info": {
   "codemirror_mode": {
    "name": "ipython",
    "version": 3
   },
   "file_extension": ".py",
   "mimetype": "text/x-python",
   "name": "python",
   "nbconvert_exporter": "python",
   "pygments_lexer": "ipython3",
   "version": "3.11.0"
  }
 },
 "nbformat": 4,
 "nbformat_minor": 5
}
