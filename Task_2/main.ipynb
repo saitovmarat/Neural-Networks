{
 "cells": [
  {
   "cell_type": "markdown",
   "id": "327c72d1",
   "metadata": {},
   "source": [
    "# Линейный классификатор"
   ]
  },
  {
   "cell_type": "markdown",
   "id": "93b66a70",
   "metadata": {},
   "source": [
    "## Подключение библиотек"
   ]
  },
  {
   "cell_type": "code",
   "execution_count": 1,
   "id": "8f56c046",
   "metadata": {},
   "outputs": [],
   "source": [
    "import numpy as np\n",
    "import csv\n",
    "# from sklearn.model_selection import train_test_split\n",
    "# from sklearn.preprocessing import StandardScaler\n",
    "# from sklearn.metrics import mean_squared_error\n",
    "# from tabulate import tabulate\n",
    "# import matplotlib.pyplot as plt\n",
    "# import seaborn as sns"
   ]
  },
  {
   "cell_type": "markdown",
   "id": "4e091a33",
   "metadata": {},
   "source": [
    "## 1. Данные"
   ]
  },
  {
   "cell_type": "code",
   "execution_count": 5,
   "id": "c96edb54",
   "metadata": {},
   "outputs": [
    {
     "name": "stdout",
     "output_type": "stream",
     "text": [
      "Лучший признак: Pclass (корреляция: 0.33848)\n"
     ]
    }
   ],
   "source": [
    "features_train = [] \n",
    "prices = []         \n",
    "\n",
    "with open('./dataset/train.csv', 'r') as csvfile:\n",
    "    reader = csv.DictReader(csvfile)\n",
    "    \n",
    "    featuresTitles = { key: [] for key in reader.fieldnames if key != 'Survived' }\n",
    "    salePrices = []\n",
    "    \n",
    "    for row in reader:\n",
    "        try:\n",
    "            salePrice = float(row['Survived'])\n",
    "            salePrices.append(salePrice)\n",
    "            \n",
    "            for feature in featuresTitles:\n",
    "                featuresTitles[feature].append(float(row[feature]))\n",
    "        except ValueError:\n",
    "            continue\n",
    "\n",
    "salePrices = np.array(salePrices)\n",
    "featuresTitles = { key: np.array(values) for key, values in featuresTitles.items() }\n",
    "\n",
    "correlations = {}\n",
    "for feature, values in featuresTitles.items():\n",
    "    valid_indices = ~np.isnan(values) \n",
    "    if np.any(valid_indices):\n",
    "        correlation = np.corrcoef(values[valid_indices], salePrices[valid_indices])[0, 1]\n",
    "        correlations[feature] = abs(correlation) \n",
    "\n",
    "best_feature = max(correlations, key=correlations.get)\n",
    "print(f\"Лучший признак: {best_feature} (корреляция: {correlations[best_feature]:.5f})\")"
   ]
  },
  {
   "cell_type": "markdown",
   "id": "918c10c8",
   "metadata": {},
   "source": [
    "## 2. Построение модели"
   ]
  },
  {
   "cell_type": "code",
   "execution_count": null,
   "id": "660fe5b8",
   "metadata": {},
   "outputs": [],
   "source": []
  },
  {
   "cell_type": "markdown",
   "id": "82f0e1c5",
   "metadata": {},
   "source": [
    "## 3. Тренировка "
   ]
  },
  {
   "cell_type": "code",
   "execution_count": null,
   "id": "68b94ec5",
   "metadata": {},
   "outputs": [],
   "source": []
  },
  {
   "cell_type": "markdown",
   "id": "cbc1f68c",
   "metadata": {},
   "source": [
    "## 4. Тестирование"
   ]
  },
  {
   "cell_type": "code",
   "execution_count": null,
   "id": "68292abf",
   "metadata": {},
   "outputs": [],
   "source": []
  }
 ],
 "metadata": {
  "kernelspec": {
   "display_name": "venv",
   "language": "python",
   "name": "python3"
  },
  "language_info": {
   "codemirror_mode": {
    "name": "ipython",
    "version": 3
   },
   "file_extension": ".py",
   "mimetype": "text/x-python",
   "name": "python",
   "nbconvert_exporter": "python",
   "pygments_lexer": "ipython3",
   "version": "3.11.0"
  }
 },
 "nbformat": 4,
 "nbformat_minor": 5
}
