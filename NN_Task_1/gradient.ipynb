{
 "cells": [
  {
   "cell_type": "markdown",
   "id": "5485ed9a",
   "metadata": {},
   "source": [
    "## Вывод формул градиентов"
   ]
  },
  {
   "cell_type": "markdown",
   "id": "08c34d1a",
   "metadata": {},
   "source": [
    "### 1. Градиент на выходном слое\n",
    "$$\n",
    "\\frac{\\partial \\mathcal{L}}{\\partial Z^{[L]}} = A^{[L]} - y\n",
    "$$\n",
    "\n",
    "### 2. Градиенты параметров слоя\n",
    "#### Градиент по весам:\n",
    "$$\n",
    "\\frac{\\partial \\mathcal{L}}{\\partial W^{[l]}} = \\frac{1}{m} A^{[l-1]^T} \\frac{\\partial \\mathcal{L}}{\\partial Z^{[l]}}\n",
    "$$\n",
    "\n",
    "#### Градиент по смещениям:\n",
    "$$\n",
    "\\frac{\\partial \\mathcal{L}}{\\partial b^{[l]}} = \\frac{1}{m} \\sum_{i=1}^m \\frac{\\partial \\mathcal{L}}{\\partial Z_i^{[l]}}\n",
    "$$\n",
    "\n",
    "### 3. Распространение градиента\n",
    "\n",
    "#### Градиент по активациям:\n",
    "$$\n",
    "\\frac{\\partial \\mathcal{L}}{\\partial A^{[l-1]}} = \\frac{\\partial \\mathcal{L}}{\\partial Z^{[l]}} W^{[l]^T}\n",
    "$$\n",
    "\n",
    "#### Градиент через функцию активации:\n",
    "$$\n",
    "\\frac{\\partial \\mathcal{L}}{\\partial Z^{[l]}} = \\frac{\\partial \\mathcal{L}}{\\partial A^{[l]}} \\odot g'(Z^{[l]})\n",
    "$$\n",
    "\n",
    "### 4. Производные активаций\n",
    "\n",
    "#### ReLU:\n",
    "$$\n",
    "g'(z) = \\begin{cases} \n",
    "1 & \\text{если } z > 0 \\\\\n",
    "0 & \\text{иначе}\n",
    "\\end{cases}\n",
    "$$\n",
    "\n",
    "#### Сигмоида:\n",
    "$$\n",
    "\\sigma'(z) = \\sigma(z)(1 - \\sigma(z))\n",
    "$$\n",
    "\n",
    "### 5. Обновление параметров\n",
    "\n",
    "$$\n",
    "W^{[l]} = W^{[l]} - \\eta \\frac{\\partial \\mathcal{L}}{\\partial W^{[l]}}\n",
    "$$\n",
    "$$\n",
    "b^{[l]} = b^{[l]} - \\eta \\frac{\\partial \\mathcal{L}}{\\partial b^{[l]}}\n",
    "$$"
   ]
  }
 ],
 "metadata": {
  "kernelspec": {
   "display_name": "venv",
   "language": "python",
   "name": "python3"
  },
  "language_info": {
   "codemirror_mode": {
    "name": "ipython",
    "version": 3
   },
   "file_extension": ".py",
   "mimetype": "text/x-python",
   "name": "python",
   "nbconvert_exporter": "python",
   "pygments_lexer": "ipython3",
   "version": "3.11.0"
  }
 },
 "nbformat": 4,
 "nbformat_minor": 5
}
