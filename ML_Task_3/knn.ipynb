{
 "cells": [
  {
   "cell_type": "markdown",
   "id": "fd16f2d6",
   "metadata": {},
   "source": [
    "# KNN (k-nearest neighbors)"
   ]
  },
  {
   "cell_type": "markdown",
   "id": "6e4bc5dc",
   "metadata": {},
   "source": [
    "## Подключение библиотек"
   ]
  },
  {
   "cell_type": "code",
   "execution_count": 1,
   "id": "5d768dc8",
   "metadata": {},
   "outputs": [],
   "source": [
    "import numpy as np\n",
    "import csv\n",
    "from sklearn.model_selection import train_test_split\n",
    "from sklearn.preprocessing import StandardScaler\n",
    "from tabulate import tabulate\n",
    "import matplotlib.pyplot as plt"
   ]
  },
  {
   "cell_type": "markdown",
   "id": "930e97de",
   "metadata": {},
   "source": [
    "## 1. Данные"
   ]
  },
  {
   "cell_type": "markdown",
   "id": "8a2f9cd0",
   "metadata": {},
   "source": [
    "### Разделение данных на тренировочные и тестовые"
   ]
  },
  {
   "cell_type": "code",
   "execution_count": 2,
   "id": "fbe7604d",
   "metadata": {},
   "outputs": [],
   "source": [
    "features_train = []\n",
    "prices = []\n",
    "\n",
    "with open('./dataset/preprocessed_train.csv', 'r') as csvfile:\n",
    "    reader = csv.DictReader(csvfile)\n",
    "    feature_titles = [key for key in reader.fieldnames if key != 'Survived']\n",
    "    \n",
    "    for row in reader:\n",
    "        sale_price = float(row['Survived'])\n",
    "        feature_values = []\n",
    "        for feature in feature_titles:\n",
    "            value = row[feature]\n",
    "            feature_values.append(float(value))\n",
    "        \n",
    "        features_train.append(feature_values)\n",
    "        prices.append(sale_price)\n",
    "\n",
    "features_train = np.array(features_train)\n",
    "prices = np.array(prices)\n",
    "\n",
    "x_train, x_test, y_train, y_test = train_test_split(\n",
    "    features_train, prices, \n",
    "    test_size=0.3, \n",
    "    random_state=42\n",
    ")\n",
    "\n",
    "numerical_features = ['Age', 'SibSp', 'Parch', 'Fare']\n",
    "scaler = StandardScaler()\n",
    "\n",
    "for i, feature in enumerate(feature_titles):\n",
    "    if feature in numerical_features:\n",
    "        mean_value = np.nanmean(x_train[:, i])\n",
    "        x_train[:, i] = np.where(np.isnan(x_train[:, i]), mean_value, x_train[:, i])\n",
    "        x_test[:, i] = np.where(np.isnan(x_test[:, i]), mean_value, x_test[:, i])\n",
    "        \n",
    "        x_train[:, i] = scaler.fit_transform(x_train[:, i].reshape(-1, 1)).flatten()\n",
    "        x_test[:, i] = scaler.transform(x_test[:, i].reshape(-1, 1)).flatten()"
   ]
  },
  {
   "cell_type": "markdown",
   "id": "cb49bcab",
   "metadata": {},
   "source": [
    "### Визуализация данных"
   ]
  },
  {
   "cell_type": "code",
   "execution_count": 3,
   "id": "b49588ec",
   "metadata": {},
   "outputs": [
    {
     "name": "stdout",
     "output_type": "stream",
     "text": [
      "+---------+----------+-------+-----------+-----------+-----------+------------+------------+------------+\n",
      "| Index   | Pclass   | Sex   | Age       | SibSp     | Parch     | Fare       | Embarked   | Survived   |\n",
      "+=========+==========+=======+===========+===========+===========+============+============+============+\n",
      "| 0       | 1        | 0     | -1.85798  | -0.474161 | 1.99885   | 0.980998   | 2          | 1          |\n",
      "+---------+----------+-------+-----------+-----------+-----------+------------+------------+------------+\n",
      "| 1       | 3        | 0     | -0.278303 | -0.474161 | -0.479327 | -0.469634  | 2          | 0          |\n",
      "+---------+----------+-------+-----------+-----------+-----------+------------+------------+------------+\n",
      "| 2       | 3        | 1     | -2.08365  | 0.348687  | 0.759763  | -0.406136  | 2          | 1          |\n",
      "+---------+----------+-------+-----------+-----------+-----------+------------+------------+------------+\n",
      "| 3       | 2        | 0     | 0.549149  | 0.348687  | 1.99885   | -0.0802318 | 2          | 0          |\n",
      "+---------+----------+-------+-----------+-----------+-----------+------------+------------+------------+\n",
      "| 4       | 2        | 0     | 1.07571   | 0.348687  | 0.759763  | -0.109651  | 2          | 0          |\n",
      "+---------+----------+-------+-----------+-----------+-----------+------------+------------+------------+\n",
      "| 5       | 1        | 0     | 0.699595  | -0.474161 | 0.759763  | 2.38538    | 2          | 0          |\n",
      "+---------+----------+-------+-----------+-----------+-----------+------------+------------+------------+\n",
      "| 6       | 2        | 1     | 0.173034  | 0.348687  | 0.759763  | -0.109651  | 2          | 1          |\n",
      "+---------+----------+-------+-----------+-----------+-----------+------------+------------+------------+\n",
      "| 7       | 3        | 0     | 0.0225886 | -0.474161 | -0.479327 | -0.466609  | 2          | 0          |\n",
      "+---------+----------+-------+-----------+-----------+-----------+------------+------------+------------+\n",
      "| 8       | 3        | 0     | -0.804863 | -0.474161 | -0.479327 | -0.461706  | 2          | 0          |\n",
      "+---------+----------+-------+-----------+-----------+-----------+------------+------------+------------+\n",
      "| 9       | 2        | 0     | 0.0978115 | -0.474161 | -0.479327 | -0.329318  | 0          | 0          |\n",
      "+---------+----------+-------+-----------+-----------+-----------+------------+------------+------------+\n",
      "| 10      | 1        | 1     | 0.774818  | 0.348687  | 0.759763  | 1.55027    | 0          | 1          |\n",
      "+---------+----------+-------+-----------+-----------+-----------+------------+------------+------------+\n",
      "| 11      | 2        | 0     | 0.774818  | -0.474161 | -0.479327 | -0.369525  | 2          | 0          |\n",
      "+---------+----------+-------+-----------+-----------+-----------+------------+------------+------------+\n",
      "| 12      | 3        | 0     | -0.20308  | 1.17154   | -0.479327 | -0.454596  | 2          | 0          |\n",
      "+---------+----------+-------+-----------+-----------+-----------+------------+------------+------------+\n",
      "| 13      | 3        | 0     | -0.654417 | -0.474161 | -0.479327 | -0.486222  | 2          | 0          |\n",
      "+---------+----------+-------+-----------+-----------+-----------+------------+------------+------------+\n",
      "| 14      | 1        | 1     | 0.473926  | 0.348687  | -0.479327 | 1.99679    | 2          | 1          |\n",
      "+---------+----------+-------+-----------+-----------+-----------+------------+------------+------------+\n",
      "| 15      | 3        | 0     | 1.52705   | -0.474161 | -0.479327 | -0.624495  | 2          | 0          |\n",
      "+---------+----------+-------+-----------+-----------+-----------+------------+------------+------------+\n",
      "| 16      | 2        | 0     | -0.428749 | -0.474161 | -0.479327 | -0.3294    | 0          | 0          |\n",
      "+---------+----------+-------+-----------+-----------+-----------+------------+------------+------------+\n",
      "| 17      | 3        | 0     | -2.08365  | 2.81723   | 0.759763  | 0.153899   | 2          | 0          |\n",
      "+---------+----------+-------+-----------+-----------+-----------+------------+------------+------------+\n",
      "| 18      | 3        | 1     | -0.541583 | -0.474161 | -0.479327 | -0.469959  | 1          | 1          |\n",
      "+---------+----------+-------+-----------+-----------+-----------+------------+------------+------------+\n",
      "| 19      | 3        | 0     | -0.278303 | 0.348687  | 1.99885   | -0.164568  | 2          | 0          |\n",
      "+---------+----------+-------+-----------+-----------+-----------+------------+------------+------------+\n"
     ]
    }
   ],
   "source": [
    "table_data = []\n",
    "headers = [\"Index\"] + feature_titles + [\"Survived\"]\n",
    "\n",
    "for i, (feat_scaled, price) in enumerate(zip(x_train, y_train)):\n",
    "    row = [i] + list(feat_scaled) + [price]\n",
    "    table_data.append(row)\n",
    "\n",
    "print(tabulate(table_data[:20], headers=headers, tablefmt=\"grid\", numalign=\"left\"))"
   ]
  },
  {
   "cell_type": "markdown",
   "id": "5a4ebd9a",
   "metadata": {},
   "source": [
    "## 2. Построение модели"
   ]
  },
  {
   "cell_type": "code",
   "execution_count": 4,
   "id": "66a0ca4c",
   "metadata": {},
   "outputs": [],
   "source": [
    "class KNN:\n",
    "    def __init__(self, k=3, X_train=None, y_train=None):\n",
    "        self.k = k\n",
    "        self.X_train = X_train\n",
    "        self.y_train = y_train\n",
    "        \n",
    "    def predict(self, X):\n",
    "        if self.X_train is None or self.y_train is None:\n",
    "            raise ValueError(\"X_train and y_train must be set before prediction.\")\n",
    "        if self.k > self.X_train.shape[0]:\n",
    "            print(f\"Warning: k ({self.k}) is greater than the number of training samples ({self.X_train.shape[0]})\")\n",
    "            print(f\"Setting k to the number of training samples (k = {self.X_train.shape[0]})\")\n",
    "\n",
    "        predictions = []\n",
    "        for sample in X: \n",
    "            distances = [(\n",
    "                np.sum((sample - train_sample) ** 2),  \n",
    "                idx\n",
    "            ) for idx, train_sample in enumerate(self.X_train)]\n",
    "            \n",
    "            k_nearest = sorted(distances, key=lambda x: x[0])[:self.k]\n",
    "            k_labels = [self.y_train[idx] for _, idx in k_nearest]\n",
    "            most_common = max(set(k_labels), key=k_labels.count)\n",
    "            predictions.append(most_common)\n",
    "        return np.array(predictions)\n",
    "    \n",
    "    def score(self, X, y):\n",
    "        preds = self.predict(X)\n",
    "        return np.mean(preds == y)\n",
    "    \n",
    "    def f1_measure(self, X, y):\n",
    "        y_pred = self.predict(X)\n",
    "        TP = np.sum((y_pred == 1) & (y == 1))\n",
    "        FP = np.sum((y_pred == 1) & (y == 0))\n",
    "        FN = np.sum((y_pred == 0) & (y == 1))\n",
    "        precision = TP / (TP + FP) \n",
    "        recall = TP / (TP + FN)\n",
    "        return (2 * precision * recall) / (precision + recall)"
   ]
  },
  {
   "cell_type": "markdown",
   "id": "f4e40649",
   "metadata": {},
   "source": [
    "## 3. Тестирование модели"
   ]
  },
  {
   "cell_type": "markdown",
   "id": "f04dcf44",
   "metadata": {},
   "source": [
    "### Выводим график изменения точности при разном значении k (кол-во соседей на основе которых делается предсказание)"
   ]
  },
  {
   "cell_type": "code",
   "execution_count": null,
   "id": "bb17e800",
   "metadata": {},
   "outputs": [
    {
     "name": "stdout",
     "output_type": "stream",
     "text": [
      "F1-measure for k = 1: 70.18%\n",
      "F1-measure for k = 2: 62.22%\n",
      "F1-measure for k = 3: 71.96%\n",
      "F1-measure for k = 4: 67.69%\n",
      "F1-measure for k = 5: 68.93%\n",
      "F1-measure for k = 6: 67.71%\n",
      "F1-measure for k = 7: 71.15%\n",
      "F1-measure for k = 8: 70.71%\n",
      "F1-measure for k = 9: 70.24%\n",
      "F1-measure for k = 10: 71.36%\n",
      "F1-measure for k = 11: 71.57%\n",
      "F1-measure for k = 12: 72.00%\n",
      "F1-measure for k = 13: 72.20%\n",
      "F1-measure for k = 14: 72.64%\n",
      "F1-measure for k = 15: 72.46%\n",
      "F1-measure for k = 16: 72.55%\n",
      "F1-measure for k = 17: 72.55%\n",
      "F1-measure for k = 18: 72.55%\n",
      "F1-measure for k = 19: 72.82%\n",
      "F1-measure for k = 20: 72.55%\n",
      "F1-measure for k = 21: 73.17%\n",
      "F1-measure for k = 22: 71.92%\n",
      "F1-measure for k = 23: 72.20%\n",
      "F1-measure for k = 24: 72.20%\n",
      "F1-measure for k = 25: 72.46%\n",
      "F1-measure for k = 26: 72.00%\n",
      "F1-measure for k = 27: 73.17%\n",
      "F1-measure for k = 28: 74.26%\n",
      "F1-measure for k = 29: 74.76%\n",
      "F1-measure for k = 30: 73.53%\n",
      "F1-measure for k = 31: 73.79%\n",
      "F1-measure for k = 32: 73.63%\n",
      "F1-measure for k = 33: 73.79%\n",
      "F1-measure for k = 34: 72.91%\n",
      "F1-measure for k = 35: 72.20%\n",
      "F1-measure for k = 36: 72.55%\n",
      "F1-measure for k = 37: 72.20%\n",
      "F1-measure for k = 38: 72.55%\n",
      "F1-measure for k = 39: 72.20%\n",
      "F1-measure for k = 40: 68.02%\n",
      "F1-measure for k = 41: 68.69%\n",
      "F1-measure for k = 42: 68.39%\n",
      "F1-measure for k = 43: 69.07%\n",
      "F1-measure for k = 44: 67.02%\n",
      "F1-measure for k = 45: 67.02%\n",
      "F1-measure for k = 46: 66.67%\n",
      "F1-measure for k = 47: 66.67%\n",
      "F1-measure for k = 48: 66.67%\n",
      "F1-measure for k = 49: 66.32%\n"
     ]
    },
    {
     "data": {
      "image/png": "[encoded data removed]",
      "text/plain": [
       "<Figure size 640x480 with 1 Axes>"
      ]
     },
     "metadata": {},
     "output_type": "display_data"
    }
   ],
   "source": [
    "scores_k = []\n",
    "n = 50\n",
    "\n",
    "for i in range(1, n):\n",
    "    model = KNN(k=i, X_train=x_train, y_train=y_train)\n",
    "    score = model.f1_measure(x_test, y_test)\n",
    "    scores_k.append(score)\n",
    "    print(f\"F1-measure for k = {i}: {score * 100:.2f}%\")\n",
    "\n",
    "plt.plot(range(1, n), scores_k, label=\"Model Accuracy\")\n",
    "plt.title(\"KNN - Accuracy vs k\", fontsize=14)\n",
    "plt.xlabel(\"k (number of neighbors)\", fontsize=12)\n",
    "plt.ylabel(\"Accuracy\", fontsize=12)\n",
    "plt.grid(True, linestyle='--', alpha=0.6)\n",
    "plt.legend(loc=\"best\")\n",
    "plt.show()"
   ]
  },
  {
   "cell_type": "markdown",
   "id": "4fc569d1",
   "metadata": {},
   "source": [
    "### Выводим точность при лучше значении k"
   ]
  },
  {
   "cell_type": "code",
   "execution_count": 8,
   "id": "b3cae28a",
   "metadata": {},
   "outputs": [
    {
     "name": "stdout",
     "output_type": "stream",
     "text": [
      "Best k - 29\n",
      "Accuracy - 74.76%\n"
     ]
    }
   ],
   "source": [
    "best_k = scores_k.index(max(scores_k))\n",
    "print(f\"Best k - {best_k + 1}\")\n",
    "print(f\"Accuracy - {scores_k[best_k] * 100:.2f}%\")"
   ]
  }
 ],
 "metadata": {
  "kernelspec": {
   "display_name": "venv",
   "language": "python",
   "name": "python3"
  },
  "language_info": {
   "codemirror_mode": {
    "name": "ipython",
    "version": 3
   },
   "file_extension": ".py",
   "mimetype": "text/x-python",
   "name": "python",
   "nbconvert_exporter": "python",
   "pygments_lexer": "ipython3",
   "version": "3.11.0"
  }
 },
 "nbformat": 4,
 "nbformat_minor": 5
}
